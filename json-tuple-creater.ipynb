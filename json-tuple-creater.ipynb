{
 "cells": [
  {
   "cell_type": "code",
   "execution_count": 1,
   "id": "5f83be2b-7c89-4a8f-9388-ec6d5576c5cc",
   "metadata": {
    "jupyter": {
     "source_hidden": true
    }
   },
   "outputs": [
    {
     "data": {
      "application/vnd.jupyter.widget-view+json": {
       "model_id": "9d7fd08f25b0407995d6972060cd204e",
       "version_major": 2,
       "version_minor": 0
      },
      "text/plain": [
       "Text(value='', description='ID:', layout=Layout(width='50%'), placeholder='Optional: Unique ID (leave blank fo…"
      ]
     },
     "metadata": {},
     "output_type": "display_data"
    },
    {
     "data": {
      "application/vnd.jupyter.widget-view+json": {
       "model_id": "a586d452d76c4b02a5915e36de293aa0",
       "version_major": 2,
       "version_minor": 0
      },
      "text/plain": [
       "DatePicker(value=None, description='Date:', step=1)"
      ]
     },
     "metadata": {},
     "output_type": "display_data"
    },
    {
     "data": {
      "application/vnd.jupyter.widget-view+json": {
       "model_id": "164655e746374b6391f3d314ae43d0f7",
       "version_major": 2,
       "version_minor": 0
      },
      "text/plain": [
       "Text(value='', description='Question:', layout=Layout(width='90%'), placeholder='Enter your question here')"
      ]
     },
     "metadata": {},
     "output_type": "display_data"
    },
    {
     "data": {
      "application/vnd.jupyter.widget-view+json": {
       "model_id": "505331b6f0c24853ba9e1a9cb9620568",
       "version_major": 2,
       "version_minor": 0
      },
      "text/plain": [
       "Textarea(value='', description='Answer:', layout=Layout(height='150px', width='90%'), placeholder='Enter your …"
      ]
     },
     "metadata": {},
     "output_type": "display_data"
    },
    {
     "data": {
      "application/vnd.jupyter.widget-view+json": {
       "model_id": "115e65ae20864753a771a9025e7a8431",
       "version_major": 2,
       "version_minor": 0
      },
      "text/plain": [
       "Text(value='', description='Tags:', layout=Layout(width='90%'), placeholder='Comma-separated tags')"
      ]
     },
     "metadata": {},
     "output_type": "display_data"
    },
    {
     "data": {
      "application/vnd.jupyter.widget-view+json": {
       "model_id": "75b73d51773b4c1cbaa9f264df5ac987",
       "version_major": 2,
       "version_minor": 0
      },
      "text/plain": [
       "Button(button_style='success', description='Submit', style=ButtonStyle())"
      ]
     },
     "metadata": {},
     "output_type": "display_data"
    },
    {
     "data": {
      "application/vnd.jupyter.widget-view+json": {
       "model_id": "6396f76619224266ae41e02c2833e95d",
       "version_major": 2,
       "version_minor": 0
      },
      "text/plain": [
       "Output()"
      ]
     },
     "metadata": {},
     "output_type": "display_data"
    }
   ],
   "source": [
    "## ✅ User-Friendly: Non-coders can easily generate structured JSON with just a Jupyter Notebook.\n",
    "## ✅ Flexible: Works for both fine-tuning and retrieval-augmented generation (RAG).\n",
    "## ✅ Sanitized & Robust: Handles special characters, tags, and formatting issues correctly.\n",
    "## ✅ Extensible: Others can build on it—e.g., adding an export to CSV, batch processing, \n",
    "##     or integrating directly into a chatbot training loop.\n",
    "\n",
    "\n",
    "\n",
    "import ipywidgets as widgets\n",
    "from IPython.display import display, clear_output, FileLink\n",
    "import json\n",
    "import datetime\n",
    "\n",
    "# Ensure datetime works correctly\n",
    "from datetime import datetime\n",
    "\n",
    "# Create widgets for user input\n",
    "id_widget = widgets.Text(\n",
    "    description=\"ID:\",\n",
    "    placeholder=\"Optional: Unique ID (leave blank for auto-generated)\",\n",
    "    layout=widgets.Layout(width='50%')\n",
    ")\n",
    "\n",
    "date_widget = widgets.DatePicker(\n",
    "    description=\"Date:\",\n",
    "    disabled=False\n",
    ")\n",
    "\n",
    "question_widget = widgets.Text(\n",
    "    description=\"Question:\",\n",
    "    placeholder=\"Enter your question here\",\n",
    "    layout=widgets.Layout(width='90%')\n",
    ")\n",
    "\n",
    "answer_widget = widgets.Textarea(\n",
    "    description=\"Answer:\",\n",
    "    placeholder=\"Enter your answer here\",\n",
    "    layout=widgets.Layout(width='90%', height='150px')\n",
    ")\n",
    "\n",
    "tags_widget = widgets.Text(\n",
    "    description=\"Tags:\",\n",
    "    placeholder=\"Comma-separated tags\",\n",
    "    layout=widgets.Layout(width='90%')\n",
    ")\n",
    "\n",
    "submit_button = widgets.Button(\n",
    "    description=\"Submit\",\n",
    "    button_style='success'\n",
    ")\n",
    "\n",
    "output = widgets.Output()\n",
    "\n",
    "# Function to sanitize text input\n",
    "def sanitize_text(text):\n",
    "    \"\"\"Ensure text is JSON-safe by escaping quotes and trimming excessive whitespace.\"\"\"\n",
    "    return text.strip().replace(\"\\r\", \"\").replace(\"\\n\", \" \")\n",
    "\n",
    "def process_tags(tags_string):\n",
    "    \"\"\"Ensures tags are clean, properly formatted, and don't pick up unwanted text.\"\"\"\n",
    "    if not tags_string or not isinstance(tags_string, str):\n",
    "        return []  # If tags field is empty or not a string, return an empty list\n",
    "\n",
    "    # Split on commas, strip whitespace, and filter out empty tags\n",
    "    tags_list = [tag.strip() for tag in tags_string.split(\",\") if tag.strip()]\n",
    "    \n",
    "    # Ensure tags are only alphanumeric words (optional, but prevents junk data)\n",
    "    tags_list = [tag for tag in tags_list if tag.isalnum()]\n",
    "    \n",
    "    return tags_list\n",
    "    \n",
    "def on_submit(b):\n",
    "    with output:\n",
    "        clear_output()  # Clear previous messages\n",
    "        \n",
    "        # Generate an ID if not provided\n",
    "        rec_id = id_widget.value.strip() or \"record_\" + datetime.now().strftime(\"%Y%m%d%H%M%S\")\n",
    "        \n",
    "        # Use provided date or default to now\n",
    "        date_value = date_widget.value.isoformat() if date_widget.value else datetime.utcnow().isoformat() + \"Z\"\n",
    "        \n",
    "        # Sanitize and extract question & answer\n",
    "        question_value = sanitize_text(question_widget.value)\n",
    "        answer_value = sanitize_text(answer_widget.value)\n",
    "        \n",
    "        # Prevent saving empty questions/answers\n",
    "        if not question_value or not answer_value:\n",
    "            print(\"Error: Question and Answer fields cannot be empty!\")\n",
    "            return\n",
    "        \n",
    "        # Process tags properly\n",
    "        tags_list = process_tags(tags_widget.value)\n",
    "        \n",
    "        # Create the structured JSON record\n",
    "        record = {\n",
    "            \"id\": rec_id,\n",
    "            \"date\": date_value,\n",
    "            \"question\": question_value,\n",
    "            \"answer\": answer_value,\n",
    "            \"tags\": tags_list\n",
    "        }\n",
    "        \n",
    "        # Convert record to JSON\n",
    "        record_json = json.dumps(record, indent=2, ensure_ascii=False)  # ensure_ascii=False allows Unicode\n",
    "        \n",
    "        # Save JSON file\n",
    "        filename = rec_id + \".json\"\n",
    "        with open(filename, \"w\", encoding=\"utf-8\") as f:\n",
    "            f.write(record_json)\n",
    "        \n",
    "        print(\"✅ Record saved to:\", filename)\n",
    "        display(FileLink(filename))\n",
    "\n",
    "# Bind the Submit button to function\n",
    "submit_button.on_click(on_submit)\n",
    "\n",
    "# Display widgets\n",
    "display(\n",
    "    id_widget,\n",
    "    date_widget,\n",
    "    question_widget,\n",
    "    answer_widget,\n",
    "    tags_widget,\n",
    "    submit_button,\n",
    "    output\n",
    ")"
   ]
  },
  {
   "cell_type": "code",
   "execution_count": null,
   "id": "3d40486a-cc68-4dbc-89f5-b986b19db1a5",
   "metadata": {},
   "outputs": [],
   "source": []
  }
 ],
 "metadata": {
  "kernelspec": {
   "display_name": "Python 3 (ipykernel)",
   "language": "python",
   "name": "python3"
  },
  "language_info": {
   "codemirror_mode": {
    "name": "ipython",
    "version": 3
   },
   "file_extension": ".py",
   "mimetype": "text/x-python",
   "name": "python",
   "nbconvert_exporter": "python",
   "pygments_lexer": "ipython3",
   "version": "3.9.6"
  }
 },
 "nbformat": 4,
 "nbformat_minor": 5
}
